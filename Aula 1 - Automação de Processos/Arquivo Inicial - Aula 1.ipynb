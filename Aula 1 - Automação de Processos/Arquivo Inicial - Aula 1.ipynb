{
 "cells": [
  {
   "cell_type": "markdown",
   "metadata": {},
   "source": [
    "# Automação de Sistemas e Processos com Python\n",
    "\n",
    "### Desafio:\n",
    "\n",
    "Todos os dias, o nosso sistema atualiza as vendas do dia anterior.\n",
    "O seu trabalho diário, como analista, é enviar um e-mail para a diretoria, assim que começar a trabalhar, com o faturamento e a quantidade de produtos vendidos no dia anterior\n",
    "\n",
    "E-mail da diretoria: seugmail+diretoria@gmail.com<br>\n",
    "Local onde o sistema disponibiliza as vendas do dia anterior: https://drive.google.com/drive/folders/149xknr9JvrlEnhNWO49zPcw0PW5icxga?usp=sharing\n",
    "\n",
    "Para resolver isso, vamos usar o pyautogui, uma biblioteca de automação de comandos do mouse e do teclado"
   ]
  },
  {
   "cell_type": "code",
   "execution_count": 20,
   "metadata": {},
   "outputs": [],
   "source": [
    "# !pip install pyautogui\n",
    "# !pip install opencv-python"
   ]
  },
  {
   "cell_type": "code",
   "execution_count": 19,
   "metadata": {},
   "outputs": [],
   "source": [
    "# passo 1: Entrar no sistema da empresa\n",
    "import pyautogui\n",
    "import pyperclip\n",
    "import time\n",
    "\n",
    "pyautogui.PAUSE = 1\n",
    "\n",
    "pyautogui.press('win')\n",
    "pyperclip.copy('Google Chrome')\n",
    "pyautogui.hotkey('ctrl', 'v')\n",
    "pyautogui.press('enter')\n",
    "time.sleep(3)\n",
    "\n",
    "pyautogui.hotkey('ctrl', 't')\n",
    "pyperclip.copy('https://drive.google.com/drive/folders/149xknr9JvrlEnhNWO49zPcw0PW5icxga')\n",
    "pyautogui.hotkey('ctrl', 'v')\n",
    "pyautogui.press('enter')\n",
    "# while not pyautogui.locateOnScreen('drive.png', confidence=0.9):\n",
    "    #time.sleep(1)\n",
    "\n",
    "# passo 2: Navegar no sistema e encontrar a base de vendas\n",
    "time.sleep(5)\n",
    "pyautogui.click(x=351, y=267)\n",
    "pyautogui.click(clicks=2)\n",
    "\n",
    "# passo 3: Fazer o download da base de vendas\n",
    "#while not pyautogui.locateOnScreen('sheet.png', confidence=0.9):\n",
    "    #time.sleep(1)\n",
    "time.sleep(4)\n",
    "pyautogui.click(x=380, y=266)  # clicar no arquivo\n",
    "time.sleep(2)\n",
    "pyautogui.click(x=1161, y=169)  # clicar nos 3 pontinhos\n",
    "pyautogui.click(x=980, y=560)  # clicar para fazer download\n",
    "time.sleep(5)  # esperar o download acabar\n"
   ]
  },
  {
   "cell_type": "markdown",
   "metadata": {},
   "source": [
    "### Vamos agora ler o arquivo baixado para pegar os indicadores\n",
    "\n",
    "- Faturamento\n",
    "- Quantidade de Produtos"
   ]
  },
  {
   "cell_type": "code",
   "execution_count": 21,
   "metadata": {},
   "outputs": [
    {
     "name": "stdout",
     "output_type": "stream",
     "text": [
      "      Código Venda       Data                     ID Loja           Produto  \\\n",
      "0            65014 2019-12-01            Shopping Morumbi    Sunga Listrado   \n",
      "1            65014 2019-12-01            Shopping Morumbi   Casaco Listrado   \n",
      "2            65016 2019-12-01           Iguatemi Campinas   Sapato Listrado   \n",
      "3            65016 2019-12-01           Iguatemi Campinas            Casaco   \n",
      "4            65017 2019-12-01          Shopping SP Market        Gorro Liso   \n",
      "...            ...        ...                         ...               ...   \n",
      "7084         69996 2019-12-26  Center Shopping Uberlândia    Short Listrado   \n",
      "7085         69996 2019-12-26  Center Shopping Uberlândia           Mochila   \n",
      "7086         69996 2019-12-26  Center Shopping Uberlândia  Pulseira Estampa   \n",
      "7087         69997 2019-12-26           Ribeirão Shopping   Camisa Listrado   \n",
      "7088         69997 2019-12-26           Ribeirão Shopping       Short Linho   \n",
      "\n",
      "      Quantidade  Valor Unitário  Valor Final  \n",
      "0              5             114          570  \n",
      "1              1             269          269  \n",
      "2              2             363          726  \n",
      "3              1             250          250  \n",
      "4              3              92          276  \n",
      "...          ...             ...          ...  \n",
      "7084           2             102          204  \n",
      "7085           4             270         1080  \n",
      "7086           1              87           87  \n",
      "7087           1             108          108  \n",
      "7088           2             133          266  \n",
      "\n",
      "[7089 rows x 7 columns]\n",
      "Total = R$2,917,311.00\n",
      "Quantidade de produtos = 15,227\n"
     ]
    }
   ],
   "source": [
    "import pandas as pd\n",
    "\n",
    "tabelaImportada = pd.read_excel(r'C:\\Users\\br_ed\\Downloads\\Vendas - Dez.xlsx')  # o 'r' antes do caminho do arquivo\n",
    "# transoforma o texto do caminho em um texto \"cru\", sem considerar possiveis comandos da linguagem\n",
    "print(tabelaImportada)\n",
    "\n",
    "# passo 5: Calcular os indicadores da empresa\n",
    "faturamento = tabelaImportada['Valor Final'].sum()\n",
    "print(f'Total = R${faturamento:,.2f}')\n",
    "quantidade = tabelaImportada['Quantidade'].sum()\n",
    "print(f'Quantidade de produtos = {quantidade:,}')\n",
    "time.sleep(2)"
   ]
  },
  {
   "cell_type": "markdown",
   "metadata": {},
   "source": [
    "### Vamos agora enviar um e-mail pelo gmail"
   ]
  },
  {
   "cell_type": "code",
   "execution_count": 23,
   "metadata": {},
   "outputs": [
    {
     "data": {
      "text/plain": [
       "'OK'"
      ]
     },
     "execution_count": 23,
     "metadata": {},
     "output_type": "execute_result"
    }
   ],
   "source": [
    "# passo 6: Enviar um email para a diretoria com os indicadores de venda\n",
    "pyautogui.hotkey('ctrl', 't')\n",
    "pyperclip.copy('https://mail.google.com')\n",
    "pyautogui.hotkey('ctrl', 'v')\n",
    "pyautogui.press('enter')\n",
    "#while not pyautogui.locateOnScreen('gmail.png', confidence=0.9):\n",
    "    #time.sleep(1)\n",
    "time.sleep(5)\n",
    "pyautogui.click(x=146, y=179)\n",
    "#while not pyautogui.locateOnScreen('botao-enviar.png', confidence=0.9):\n",
    "    #time.sleep(1)\n",
    "time.sleep(5)\n",
    "pyautogui.write('edu.sp.cs@gmail.com')\n",
    "# pyautogui.hotkey('ctrl', 'v')\n",
    "pyautogui.press('tab')  # seleciona o email\n",
    "pyautogui.press('tab')  # pula para o campo assunto\n",
    "pyperclip.copy('Relatório de Vendas (Teste de automação com Python)')\n",
    "pyautogui.hotkey('ctrl', 'v')\n",
    "\n",
    "pyautogui.press('tab')  # pula para o corpo do email\n",
    "textoEmail = f'''\n",
    "Prezados,\n",
    "\n",
    "Segue Relatório das Vendas:\n",
    "Faturamento = R${faturamento:,.2f}\n",
    "Quantidade de produtos = {quantidade:,}\n",
    "\n",
    "Fico à disposição.\n",
    "'''\n",
    "pyperclip.copy(textoEmail)\n",
    "pyautogui.hotkey('ctrl', 'v')\n",
    "\n",
    "# passo 7: anexar arquivo no email\n",
    "pyautogui.click(x=325, y=678)\n",
    "time.sleep(2)\n",
    "pyperclip.copy(r'C:\\Users\\br_ed\\Downloads\\Vendas - Dez.xlsx')\n",
    "pyautogui.hotkey('ctrl', 'v')\n",
    "pyautogui.press('enter')\n",
    "pyautogui.press('enter')\n",
    "time.sleep(4)\n",
    "\n",
    "pyautogui.click(x=208, y=681)  # enviar\n",
    "\n",
    "# fim\n",
    "pyautogui.alert('Fim da automação!')"
   ]
  },
  {
   "cell_type": "markdown",
   "metadata": {},
   "source": [
    "#### Use esse código para descobrir qual a posição de um item que queira clicar\n",
    "\n",
    "- Lembre-se: a posição na sua tela é diferente da posição na minha tela"
   ]
  },
  {
   "cell_type": "code",
   "execution_count": null,
   "metadata": {},
   "outputs": [],
   "source": [
    "time.sleep(5)\n",
    "print(pyautogui.position())"
   ]
  }
 ],
 "metadata": {
  "kernelspec": {
   "display_name": "Python 3 (ipykernel)",
   "language": "python",
   "name": "python3"
  },
  "language_info": {
   "codemirror_mode": {
    "name": "ipython",
    "version": 3
   },
   "file_extension": ".py",
   "mimetype": "text/x-python",
   "name": "python",
   "nbconvert_exporter": "python",
   "pygments_lexer": "ipython3",
   "version": "3.9.12"
  }
 },
 "nbformat": 4,
 "nbformat_minor": 4
}
